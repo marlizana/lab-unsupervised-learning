{
 "cells": [
  {
   "cell_type": "markdown",
   "metadata": {},
   "source": [
    "# Before your start:\n",
    "- Read the README.md file\n",
    "- Comment as much as you can and use the resources in the README.md file\n",
    "- Happy learning!"
   ]
  },
  {
   "cell_type": "code",
   "execution_count": null,
   "metadata": {
    "ExecuteTime": {
     "end_time": "2020-05-12T16:33:02.384581Z",
     "start_time": "2020-05-12T16:33:00.911913Z"
    }
   },
   "outputs": [],
   "source": [
    "# Import your libraries:\n",
    "\n",
    "%matplotlib inline\n",
    "\n",
    "import matplotlib.pyplot as plt\n",
    "import seaborn as sns\n",
    "import numpy as np\n",
    "import pandas as pd\n",
    "from sklearn.cluster import KMeans, DBSCAN"
   ]
  },
  {
   "cell_type": "markdown",
   "metadata": {},
   "source": [
    "# Challenge 1 - Import and Describe the Dataset\n",
    "\n",
    "In this lab, we will use a dataset containing information about customer preferences. We will look at how much each customer spends in a year on each subcategory in the grocery store and try to find similarities using clustering.\n",
    "\n",
    "The origin of the dataset is [here](https://archive.ics.uci.edu/ml/datasets/wholesale+customers)."
   ]
  },
  {
   "cell_type": "code",
   "execution_count": null,
   "metadata": {
    "ExecuteTime": {
     "end_time": "2020-05-12T13:19:01.382403Z",
     "start_time": "2020-05-12T13:19:01.364386Z"
    }
   },
   "outputs": [],
   "source": [
    "# loading the data:\n",
    "customer = pd.read_csv('../data/Wholesale customers data.csv')"
   ]
  },
  {
   "cell_type": "code",
   "execution_count": null,
   "metadata": {
    "ExecuteTime": {
     "end_time": "2020-05-12T13:20:17.717459Z",
     "start_time": "2020-05-12T13:20:17.695508Z"
    }
   },
   "outputs": [],
   "source": [
    "def heatmap_ml (df):\n",
    "    corr = df.corr().round(2)\n",
    "    mask = np.zeros_like(corr)\n",
    "    mask[np.triu_indices_from(mask)] = True\n",
    "\n",
    "    with sns.axes_style(\"white\"):\n",
    "        f, ax = plt.subplots(figsize=(16, 8))\n",
    "\n",
    "        ax = sns.heatmap(corr, cmap = 'RdBu_r', annot=True,  mask=mask, vmax=1, vmin= -1, square=True)\n",
    "        \n",
    "\n",
    "def describe_df(df):\n",
    "    \n",
    "    \"\"\"\n",
    "    Muestra información básica del dataframe que le pases.\n",
    "    \n",
    "    Input:\n",
    "    -DataFrame\n",
    "    \n",
    "    Output:\n",
    "    - Número de filas y columnas\n",
    "    - DataFrame con:\n",
    "        * 'type': Tipos de columnas\n",
    "        * 'nan': Número de valores nulos\n",
    "        * 'nan_ratio_col': Ratio de valores nulos en la columna\n",
    "        * 'nan_ratio_total': Ratio de valores nulos en el total del dataset\n",
    "        * 'unique_values': Número de valores únicos que tiene esa columna\n",
    "        * 'mean': media de las columnas numéricas\n",
    "        * 'std': desviación estándard de las columnas numéricas\n",
    "        * 'min': mínimo de las columnas numéricas\n",
    "        * '25%': primer cuartil de las columnas numéricas\n",
    "        * '50%': segundo cuartil de las columnas numéricas\n",
    "        * '75%': tercer cuartil de las columnas numéricas\n",
    "        * 'max': máximo de las columnas numéricas\n",
    "        \n",
    "    - Heatmap de correlación\n",
    "    \"\"\"\n",
    "    \n",
    "    print(f'Hay un total de {df.shape[0]} filas y {df.shape[1]} columnas.')\n",
    "    \n",
    "    print (heatmap_ml(df))\n",
    "    \n",
    "    describe_df = pd.DataFrame(df.dtypes, columns = [\"type\"])\n",
    "    describe_df[\"nan\"] = df.isna().sum()\n",
    "    describe_df[\"nan_ratio_col\"] = [round(df.isna().sum()[col]/len(df[col])*100, 2) for col in df.columns]\n",
    "    describe_df[\"nan_ratio_total\"] = [round(df.isna().sum()[col]/df.shape[0]*100, 2) for col in df.columns]\n",
    "    describe_df['unique_values'] = [len(pd.unique(df[col])) for col in df.columns]\n",
    "    describe_df = describe_df.join(df.describe().T[['mean', 'std', 'min', '25%', '50%', '75%', 'max']], on = describe_df.index)\n",
    "    \n",
    "    return describe_df"
   ]
  },
  {
   "cell_type": "markdown",
   "metadata": {},
   "source": [
    "#### Explore the dataset with mathematical and visualization techniques. What do you find?\n",
    "\n",
    "Checklist:\n",
    "\n",
    "* What does each column mean?\n",
    "* Any categorical data to convert?\n",
    "* Any missing data to remove?\n",
    "* Column collinearity - any high correlations?\n",
    "* Descriptive statistics - any outliers to remove?\n",
    "* Column-wise data distribution - is the distribution skewed?\n",
    "* Etc.\n",
    "\n",
    "Additional info: Over a century ago, an Italian economist named Vilfredo Pareto discovered that roughly 20% of the customers account for 80% of the typical retail sales. This is called the [Pareto principle](https://en.wikipedia.org/wiki/Pareto_principle). Check if this dataset displays this characteristic."
   ]
  },
  {
   "cell_type": "code",
   "execution_count": null,
   "metadata": {
    "ExecuteTime": {
     "end_time": "2020-05-12T13:48:23.997997Z",
     "start_time": "2020-05-12T13:48:23.943901Z"
    }
   },
   "outputs": [],
   "source": [
    "customer.head()"
   ]
  },
  {
   "cell_type": "code",
   "execution_count": null,
   "metadata": {
    "ExecuteTime": {
     "end_time": "2020-05-12T13:20:30.453065Z",
     "start_time": "2020-05-12T13:20:29.001720Z"
    }
   },
   "outputs": [],
   "source": [
    "# Your code here:\n",
    "describe_df (customer)"
   ]
  },
  {
   "cell_type": "code",
   "execution_count": null,
   "metadata": {
    "ExecuteTime": {
     "end_time": "2020-05-12T13:57:18.062115Z",
     "start_time": "2020-05-12T13:57:16.230378Z"
    }
   },
   "outputs": [],
   "source": [
    "fig, axes = plt.subplots(nrows=4, ncols=2, figsize=(14,20))\n",
    "for ax, col in zip(axes.flatten(), customer.columns):\n",
    "    sns.distplot(customer[col], ax=ax)"
   ]
  },
  {
   "cell_type": "markdown",
   "metadata": {
    "ExecuteTime": {
     "end_time": "2020-05-12T13:56:49.988564Z",
     "start_time": "2020-05-12T13:56:48.989Z"
    }
   },
   "source": [
    "\n",
    "Your observations here:\n",
    "\n",
    "* **What does each column mean?** Excepto Channel y Region, el resto son productos.\n",
    "* **Any categorical data to convert?**. No, son todas numéricas\n",
    "* **Any missing data to remove?** No\n",
    "* **Column collinearity - any high correlations?** Hay una correlación fuerte entre Grocery y Detergent_Paper\n",
    "* **Descriptive statistics - any outliers to remove?** Parece que hay productos con un rango muy alto, pero como son cantidades del producto adquiridas no las consideraremos outliers.\n",
    "* **Column-wise data distribution - is the distribution skewed?**\n",
    "Etc."
   ]
  },
  {
   "cell_type": "markdown",
   "metadata": {},
   "source": [
    "# Challenge 2 - Data Cleaning and Transformation\n",
    "\n",
    "If your conclusion from the previous challenge is the data need cleaning/transformation, do it in the cells below. However, if your conclusion is the data need not be cleaned or transformed, feel free to skip this challenge. But if you do choose the latter, please provide rationale."
   ]
  },
  {
   "cell_type": "code",
   "execution_count": null,
   "metadata": {},
   "outputs": [],
   "source": [
    "# Your code here"
   ]
  },
  {
   "cell_type": "code",
   "execution_count": null,
   "metadata": {},
   "outputs": [],
   "source": [
    "# Your comment here"
   ]
  },
  {
   "cell_type": "markdown",
   "metadata": {},
   "source": [
    "# Challenge 3 - Data Preprocessing\n",
    "\n",
    "One problem with the dataset is the value ranges are remarkably different across various categories (e.g. `Fresh` and `Grocery` compared to `Detergents_Paper` and `Delicassen`). If you made this observation in the first challenge, you've done a great job! This means you not only completed the bonus questions in the previous Supervised Learning lab but also researched deep into [*feature scaling*](https://en.wikipedia.org/wiki/Feature_scaling). Keep on the good work!\n",
    "\n",
    "Diverse value ranges in different features could cause issues in our clustering. The way to reduce the problem is through feature scaling. We'll use this technique again with this dataset.\n",
    "\n",
    "#### We will use the `StandardScaler` from `sklearn.preprocessing` and scale our data. Read more about `StandardScaler` [here](https://scikit-learn.org/stable/modules/generated/sklearn.preprocessing.StandardScaler.html#sklearn.preprocessing.StandardScaler).\n",
    "\n",
    "*After scaling your data, assign the transformed data to a new variable `customers_scale`.*"
   ]
  },
  {
   "cell_type": "code",
   "execution_count": null,
   "metadata": {
    "ExecuteTime": {
     "end_time": "2020-05-12T16:32:23.023953Z",
     "start_time": "2020-05-12T16:32:22.969626Z"
    }
   },
   "outputs": [],
   "source": [
    "# Your import here:\n",
    "\n",
    "from sklearn.preprocessing import StandardScaler\n",
    "\n",
    "# Your code here:\n",
    "scaler = StandardScaler()\n",
    "\n",
    "customers_scale = scaler.fit_transform(customer)"
   ]
  },
  {
   "cell_type": "markdown",
   "metadata": {},
   "source": [
    "# Challenge 3 - Data Clustering with K-Means\n",
    "\n",
    "Now let's cluster the data with K-Means first. Initiate the K-Means model, then fit your scaled data. In the data returned from the `.fit` method, there is an attribute called `labels_` which is the cluster number assigned to each data record. What you can do is to assign these labels back to `customers` in a new column called `customers['labels']`. Then you'll see the cluster results of the original data."
   ]
  },
  {
   "cell_type": "code",
   "execution_count": null,
   "metadata": {
    "ExecuteTime": {
     "end_time": "2020-05-12T16:38:06.257941Z",
     "start_time": "2020-05-12T16:38:06.111545Z"
    },
    "scrolled": true
   },
   "outputs": [],
   "source": [
    "# Your code here:\n",
    "clusterKMeans = KMeans(n_clusters =4).fit(customer_scale)\n",
    "customer.loc[:,'labelsKMeans'] = clusterKMeans.labels_"
   ]
  },
  {
   "cell_type": "markdown",
   "metadata": {},
   "source": [
    "Count the values in `labels`."
   ]
  },
  {
   "cell_type": "code",
   "execution_count": null,
   "metadata": {
    "ExecuteTime": {
     "end_time": "2020-05-12T16:38:07.160942Z",
     "start_time": "2020-05-12T16:38:07.147356Z"
    }
   },
   "outputs": [],
   "source": [
    "# Your code here:\n",
    "customer['labelsKMeans'].value_counts()"
   ]
  },
  {
   "cell_type": "markdown",
   "metadata": {},
   "source": [
    "# Challenge 4 - Data Clustering with DBSCAN\n",
    "\n",
    "Now let's cluster the data using DBSCAN. Use `DBSCAN(eps=0.5)` to initiate the model, then fit your scaled data. In the data returned from the `.fit` method, assign the `labels_` back to `customers['labels_DBSCAN']`. Now your original data have two labels, one from K-Means and the other from DBSCAN."
   ]
  },
  {
   "cell_type": "code",
   "execution_count": null,
   "metadata": {
    "ExecuteTime": {
     "end_time": "2020-05-12T16:38:08.346546Z",
     "start_time": "2020-05-12T16:38:08.296101Z"
    },
    "scrolled": true
   },
   "outputs": [],
   "source": [
    "# Your code here\n",
    "clusterDBSCAN =  DBSCAN(eps=0.5).fit(customer_scale)\n",
    "customer['labelsDBSCAN'] = clusterDBSCAN.labels_"
   ]
  },
  {
   "cell_type": "markdown",
   "metadata": {},
   "source": [
    "Count the values in `labels_DBSCAN`."
   ]
  },
  {
   "cell_type": "code",
   "execution_count": null,
   "metadata": {
    "ExecuteTime": {
     "end_time": "2020-05-12T16:38:17.938855Z",
     "start_time": "2020-05-12T16:38:17.920151Z"
    }
   },
   "outputs": [],
   "source": [
    "# Your code here\n",
    "customer['labels_DBSCAN'].value_counts()"
   ]
  },
  {
   "cell_type": "markdown",
   "metadata": {},
   "source": [
    "# Challenge 5 - Compare K-Means with DBSCAN\n",
    "\n",
    "Now we want to visually compare how K-Means and DBSCAN have clustered our data. We will create scatter plots for several columns. For each of the following column pairs, plot a scatter plot using `labels` and another using `labels_DBSCAN`. Put them side by side to compare. Which clustering algorithm makes better sense?\n",
    "\n",
    "Columns to visualize:\n",
    "\n",
    "* `Detergents_Paper` as X and `Milk` as y\n",
    "* `Grocery` as X and `Fresh` as y\n",
    "* `Frozen` as X and `Delicassen` as y"
   ]
  },
  {
   "cell_type": "markdown",
   "metadata": {},
   "source": [
    "Visualize `Detergents_Paper` as X and `Milk` as y by `labels` and `labels_DBSCAN` respectively"
   ]
  },
  {
   "cell_type": "code",
   "execution_count": null,
   "metadata": {
    "ExecuteTime": {
     "end_time": "2020-05-12T16:54:19.882624Z",
     "start_time": "2020-05-12T16:54:19.425126Z"
    }
   },
   "outputs": [],
   "source": [
    "# Your code here:\n",
    "plt.figure(figsize=(16,10))\n",
    "_=sns.scatterplot(x='Detergents_Paper', y = 'Milk',s=200, hue = 'labelsKMeans' , palette ='coolwarm',data=customer)"
   ]
  },
  {
   "cell_type": "code",
   "execution_count": null,
   "metadata": {
    "ExecuteTime": {
     "end_time": "2020-05-12T16:54:14.070026Z",
     "start_time": "2020-05-12T16:54:13.598046Z"
    }
   },
   "outputs": [],
   "source": [
    "plt.figure(figsize=(16,10))\n",
    "_=sns.scatterplot(x='Detergents_Paper', y = 'Milk', hue = 'labelsDBSCAN' , s=200,palette ='coolwarm',data=customer)"
   ]
  },
  {
   "cell_type": "markdown",
   "metadata": {},
   "source": [
    "Visualize `Grocery` as X and `Fresh` as y by `labels` and `labels_DBSCAN` respectively"
   ]
  },
  {
   "cell_type": "code",
   "execution_count": null,
   "metadata": {
    "ExecuteTime": {
     "end_time": "2020-05-12T16:54:05.496466Z",
     "start_time": "2020-05-12T16:54:05.083794Z"
    }
   },
   "outputs": [],
   "source": [
    "# Your code here:\n",
    "plt.figure(figsize=(16,10))\n",
    "_=sns.scatterplot(x='Grocery', y = 'Fresh', hue = 'labelsKMeans' , s=200,palette ='coolwarm',data=customer)"
   ]
  },
  {
   "cell_type": "code",
   "execution_count": null,
   "metadata": {
    "ExecuteTime": {
     "end_time": "2020-05-12T16:54:00.175354Z",
     "start_time": "2020-05-12T16:53:59.720646Z"
    }
   },
   "outputs": [],
   "source": [
    "plt.figure(figsize=(16,10))\n",
    "_=sns.scatterplot(x='Grocery', y = 'Fresh', hue = 'labelsDBSCAN' , s=200,palette ='coolwarm',data=customer)"
   ]
  },
  {
   "cell_type": "markdown",
   "metadata": {},
   "source": [
    "Visualize `Frozen` as X and `Delicassen` as y by `labels` and `labels_DBSCAN` respectively"
   ]
  },
  {
   "cell_type": "code",
   "execution_count": null,
   "metadata": {
    "ExecuteTime": {
     "end_time": "2020-05-12T16:53:54.536094Z",
     "start_time": "2020-05-12T16:53:54.101504Z"
    }
   },
   "outputs": [],
   "source": [
    "# Your code here:\n",
    "plt.figure(figsize=(16,10))\n",
    "_=sns.scatterplot(x='Frozen', y = 'Delicassen', hue = 'labelsKMeans' , s=200,palette ='coolwarm',data=customer)"
   ]
  },
  {
   "cell_type": "code",
   "execution_count": null,
   "metadata": {
    "ExecuteTime": {
     "end_time": "2020-05-12T16:53:28.480511Z",
     "start_time": "2020-05-12T16:53:28.038719Z"
    }
   },
   "outputs": [],
   "source": [
    "plt.figure(figsize=(16,10))\n",
    "_=sns.scatterplot(x='Frozen', y = 'Delicassen', hue = 'labelsDBSCAN' , s=200, palette ='coolwarm',data=customer)"
   ]
  },
  {
   "cell_type": "markdown",
   "metadata": {},
   "source": [
    "Let's use a groupby to see how the mean differs between the groups. Group `customers` by `labels` and `labels_DBSCAN` respectively and compute the means for all columns."
   ]
  },
  {
   "cell_type": "code",
   "execution_count": null,
   "metadata": {
    "ExecuteTime": {
     "end_time": "2020-05-12T16:54:46.587848Z",
     "start_time": "2020-05-12T16:54:46.506359Z"
    }
   },
   "outputs": [],
   "source": [
    "# Your code here:\n",
    "customer.groupby('labelsKMeans').mean()"
   ]
  },
  {
   "cell_type": "code",
   "execution_count": null,
   "metadata": {
    "ExecuteTime": {
     "end_time": "2020-05-12T16:55:32.073565Z",
     "start_time": "2020-05-12T16:55:31.987046Z"
    }
   },
   "outputs": [],
   "source": [
    "customer.groupby('labelsDBSCAN').mean()"
   ]
  },
  {
   "cell_type": "markdown",
   "metadata": {},
   "source": [
    "Which algorithm appears to perform better?"
   ]
  },
  {
   "cell_type": "code",
   "execution_count": null,
   "metadata": {},
   "outputs": [],
   "source": [
    "# Your observations here"
   ]
  },
  {
   "cell_type": "markdown",
   "metadata": {},
   "source": [
    "# Bonus Challenge 2 - Changing K-Means Number of Clusters\n",
    "\n",
    "As we mentioned earlier, we don't need to worry about the number of clusters with DBSCAN because it automatically decides that based on the parameters we send to it. But with K-Means, we have to supply the `n_clusters` param (if you don't supply `n_clusters`, the algorithm will use `8` by default). You need to know that the optimal number of clusters differs case by case based on the dataset. K-Means can perform badly if the wrong number of clusters is used.\n",
    "\n",
    "In advanced machine learning, data scientists try different numbers of clusters and evaluate the results with statistical measures (read [here](https://en.wikipedia.org/wiki/Cluster_analysis#External_evaluation)). We are not using statistical measures today but we'll use our eyes instead. In the cells below, experiment with different number of clusters and visualize with scatter plots. What number of clusters seems to work best for K-Means?"
   ]
  },
  {
   "cell_type": "code",
   "execution_count": null,
   "metadata": {},
   "outputs": [],
   "source": [
    "# Your code here"
   ]
  },
  {
   "cell_type": "code",
   "execution_count": null,
   "metadata": {},
   "outputs": [],
   "source": [
    "# Your comment here"
   ]
  },
  {
   "cell_type": "markdown",
   "metadata": {},
   "source": [
    "# Bonus Challenge 3 - Changing DBSCAN `eps` and `min_samples`\n",
    "\n",
    "Experiment changing the `eps` and `min_samples` params for DBSCAN. See how the results differ with scatter plot visualization."
   ]
  },
  {
   "cell_type": "code",
   "execution_count": null,
   "metadata": {},
   "outputs": [],
   "source": [
    "# Your code here"
   ]
  },
  {
   "cell_type": "code",
   "execution_count": null,
   "metadata": {},
   "outputs": [],
   "source": [
    "# Your comment here"
   ]
  }
 ],
 "metadata": {
  "kernelspec": {
   "display_name": "Python 3",
   "language": "python",
   "name": "python3"
  },
  "language_info": {
   "codemirror_mode": {
    "name": "ipython",
    "version": 3
   },
   "file_extension": ".py",
   "mimetype": "text/x-python",
   "name": "python",
   "nbconvert_exporter": "python",
   "pygments_lexer": "ipython3",
   "version": "3.7.6"
  },
  "toc": {
   "base_numbering": 1,
   "nav_menu": {},
   "number_sections": true,
   "sideBar": true,
   "skip_h1_title": false,
   "title_cell": "Table of Contents",
   "title_sidebar": "Contents",
   "toc_cell": false,
   "toc_position": {},
   "toc_section_display": true,
   "toc_window_display": false
  },
  "varInspector": {
   "cols": {
    "lenName": 16,
    "lenType": 16,
    "lenVar": 40
   },
   "kernels_config": {
    "python": {
     "delete_cmd_postfix": "",
     "delete_cmd_prefix": "del ",
     "library": "var_list.py",
     "varRefreshCmd": "print(var_dic_list())"
    },
    "r": {
     "delete_cmd_postfix": ") ",
     "delete_cmd_prefix": "rm(",
     "library": "var_list.r",
     "varRefreshCmd": "cat(var_dic_list()) "
    }
   },
   "types_to_exclude": [
    "module",
    "function",
    "builtin_function_or_method",
    "instance",
    "_Feature"
   ],
   "window_display": false
  }
 },
 "nbformat": 4,
 "nbformat_minor": 2
}
